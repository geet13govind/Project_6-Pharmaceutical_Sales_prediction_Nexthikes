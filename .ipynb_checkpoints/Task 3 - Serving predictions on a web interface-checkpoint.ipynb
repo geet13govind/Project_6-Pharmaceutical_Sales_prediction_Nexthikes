{
 "cells": [
  {
   "cell_type": "markdown",
   "id": "52c27c2d",
   "metadata": {},
   "source": [
    "# Task 3 - Serving predictions on a web interface"
   ]
  },
  {
   "cell_type": "code",
   "execution_count": 10,
   "id": "fbec8af0",
   "metadata": {},
   "outputs": [],
   "source": [
    "# import libraries\n",
    "import pandas as pd\n",
    "import numpy as numpy"
   ]
  },
  {
   "cell_type": "code",
   "execution_count": 11,
   "id": "73621465",
   "metadata": {},
   "outputs": [],
   "source": [
    "# Load dataset\n",
    "df = pd.read_csv('df_train_for_deeplearning.csv')"
   ]
  },
  {
   "cell_type": "code",
   "execution_count": 12,
   "id": "434257ad",
   "metadata": {},
   "outputs": [
    {
     "name": "stdout",
     "output_type": "stream",
     "text": [
      "<class 'pandas.core.frame.DataFrame'>\n",
      "RangeIndex: 1017209 entries, 0 to 1017208\n",
      "Data columns (total 32 columns):\n",
      " #   Column                     Non-Null Count    Dtype  \n",
      "---  ------                     --------------    -----  \n",
      " 0   Date                       1017209 non-null  object \n",
      " 1   Store                      1017209 non-null  int64  \n",
      " 2   DayOfWeek                  1017209 non-null  int64  \n",
      " 3   Sales                      1017209 non-null  float64\n",
      " 4   Customers                  1017209 non-null  int64  \n",
      " 5   Open                       1017209 non-null  int64  \n",
      " 6   Promo                      1017209 non-null  int64  \n",
      " 7   StateHoliday               1017209 non-null  float64\n",
      " 8   SchoolHoliday              1017209 non-null  int64  \n",
      " 9   StoreType                  1017209 non-null  float64\n",
      " 10  Assortment                 1017209 non-null  float64\n",
      " 11  CompetitionDistance        1017209 non-null  float64\n",
      " 12  CompetitionOpenSinceMonth  1017209 non-null  float64\n",
      " 13  CompetitionOpenSinceYear   1017209 non-null  float64\n",
      " 14  Promo2                     1017209 non-null  int64  \n",
      " 15  Promo2SinceWeek            1017209 non-null  float64\n",
      " 16  Promo2SinceYear            1017209 non-null  float64\n",
      " 17  CompetitionOpenSinceDate   1017209 non-null  object \n",
      " 18  Year                       1017209 non-null  int64  \n",
      " 19  Month                      1017209 non-null  int64  \n",
      " 20  Day                        1017209 non-null  int64  \n",
      " 21  WeekOfYear                 1017209 non-null  int64  \n",
      " 22  Weekday                    1017209 non-null  int64  \n",
      " 23  IsWeekend                  1017209 non-null  float64\n",
      " 24  IsBeginningOfMonth         1017209 non-null  float64\n",
      " 25  IsMidMonth                 1017209 non-null  float64\n",
      " 26  IsEndOfMonth               1017209 non-null  float64\n",
      " 27  Quarter                    1017209 non-null  int64  \n",
      " 28  IsHolidaySeason            1017209 non-null  float64\n",
      " 29  PromoIntervalMonths        1017209 non-null  object \n",
      " 30  PromoRunningDays           1017209 non-null  int64  \n",
      " 31  CompetitionDurationMonths  1017209 non-null  float64\n",
      "dtypes: float64(15), int64(14), object(3)\n",
      "memory usage: 248.3+ MB\n"
     ]
    }
   ],
   "source": [
    "# check info of data\n",
    "df.info()"
   ]
  },
  {
   "cell_type": "code",
   "execution_count": 13,
   "id": "d003e680",
   "metadata": {},
   "outputs": [
    {
     "data": {
      "text/plain": [
       "Index(['Date', 'Store', 'DayOfWeek', 'Sales', 'Customers', 'Open', 'Promo',\n",
       "       'StateHoliday', 'SchoolHoliday', 'StoreType', 'Assortment',\n",
       "       'CompetitionDistance', 'CompetitionOpenSinceMonth',\n",
       "       'CompetitionOpenSinceYear', 'Promo2', 'Promo2SinceWeek',\n",
       "       'Promo2SinceYear', 'CompetitionOpenSinceDate', 'Year', 'Month', 'Day',\n",
       "       'WeekOfYear', 'Weekday', 'IsWeekend', 'IsBeginningOfMonth',\n",
       "       'IsMidMonth', 'IsEndOfMonth', 'Quarter', 'IsHolidaySeason',\n",
       "       'PromoIntervalMonths', 'PromoRunningDays', 'CompetitionDurationMonths'],\n",
       "      dtype='object')"
      ]
     },
     "execution_count": 13,
     "metadata": {},
     "output_type": "execute_result"
    }
   ],
   "source": [
    "# Check columns in dadaset\n",
    "df.columns"
   ]
  },
  {
   "cell_type": "code",
   "execution_count": 14,
   "id": "09ba904b",
   "metadata": {},
   "outputs": [],
   "source": [
    "# Rename some colums as per task\n",
    "df = df.rename(columns={'StateHoliday':'IsHoliday','Promo':'IsPromo','Store':'Store-ID'})"
   ]
  },
  {
   "cell_type": "code",
   "execution_count": 15,
   "id": "cd41aaf0",
   "metadata": {},
   "outputs": [],
   "source": [
    "# Make final dataframe with columns depend on dates\n",
    "final_df = df[['Store-ID','IsHoliday','IsWeekend','IsPromo','Customers','Open','Day','Weekday','Month','Year','Sales']]"
   ]
  },
  {
   "cell_type": "code",
   "execution_count": 16,
   "id": "1fe933ab",
   "metadata": {},
   "outputs": [
    {
     "data": {
      "text/html": [
       "<div>\n",
       "<style scoped>\n",
       "    .dataframe tbody tr th:only-of-type {\n",
       "        vertical-align: middle;\n",
       "    }\n",
       "\n",
       "    .dataframe tbody tr th {\n",
       "        vertical-align: top;\n",
       "    }\n",
       "\n",
       "    .dataframe thead th {\n",
       "        text-align: right;\n",
       "    }\n",
       "</style>\n",
       "<table border=\"1\" class=\"dataframe\">\n",
       "  <thead>\n",
       "    <tr style=\"text-align: right;\">\n",
       "      <th></th>\n",
       "      <th>Store-ID</th>\n",
       "      <th>IsHoliday</th>\n",
       "      <th>IsWeekend</th>\n",
       "      <th>IsPromo</th>\n",
       "      <th>Customers</th>\n",
       "      <th>Open</th>\n",
       "      <th>Day</th>\n",
       "      <th>Weekday</th>\n",
       "      <th>Month</th>\n",
       "      <th>Year</th>\n",
       "      <th>Sales</th>\n",
       "    </tr>\n",
       "  </thead>\n",
       "  <tbody>\n",
       "    <tr>\n",
       "      <th>0</th>\n",
       "      <td>1</td>\n",
       "      <td>0.0</td>\n",
       "      <td>0.0</td>\n",
       "      <td>1</td>\n",
       "      <td>555</td>\n",
       "      <td>1</td>\n",
       "      <td>31</td>\n",
       "      <td>4</td>\n",
       "      <td>7</td>\n",
       "      <td>2015</td>\n",
       "      <td>5263.0</td>\n",
       "    </tr>\n",
       "    <tr>\n",
       "      <th>1</th>\n",
       "      <td>2</td>\n",
       "      <td>0.0</td>\n",
       "      <td>0.0</td>\n",
       "      <td>1</td>\n",
       "      <td>625</td>\n",
       "      <td>1</td>\n",
       "      <td>31</td>\n",
       "      <td>4</td>\n",
       "      <td>7</td>\n",
       "      <td>2015</td>\n",
       "      <td>6064.0</td>\n",
       "    </tr>\n",
       "    <tr>\n",
       "      <th>2</th>\n",
       "      <td>3</td>\n",
       "      <td>0.0</td>\n",
       "      <td>0.0</td>\n",
       "      <td>1</td>\n",
       "      <td>821</td>\n",
       "      <td>1</td>\n",
       "      <td>31</td>\n",
       "      <td>4</td>\n",
       "      <td>7</td>\n",
       "      <td>2015</td>\n",
       "      <td>8314.0</td>\n",
       "    </tr>\n",
       "    <tr>\n",
       "      <th>3</th>\n",
       "      <td>4</td>\n",
       "      <td>0.0</td>\n",
       "      <td>0.0</td>\n",
       "      <td>1</td>\n",
       "      <td>1498</td>\n",
       "      <td>1</td>\n",
       "      <td>31</td>\n",
       "      <td>4</td>\n",
       "      <td>7</td>\n",
       "      <td>2015</td>\n",
       "      <td>13995.0</td>\n",
       "    </tr>\n",
       "  </tbody>\n",
       "</table>\n",
       "</div>"
      ],
      "text/plain": [
       "   Store-ID  IsHoliday  IsWeekend  IsPromo  Customers  Open  Day  Weekday  \\\n",
       "0         1        0.0        0.0        1        555     1   31        4   \n",
       "1         2        0.0        0.0        1        625     1   31        4   \n",
       "2         3        0.0        0.0        1        821     1   31        4   \n",
       "3         4        0.0        0.0        1       1498     1   31        4   \n",
       "\n",
       "   Month  Year    Sales  \n",
       "0      7  2015   5263.0  \n",
       "1      7  2015   6064.0  \n",
       "2      7  2015   8314.0  \n",
       "3      7  2015  13995.0  "
      ]
     },
     "execution_count": 16,
     "metadata": {},
     "output_type": "execute_result"
    }
   ],
   "source": [
    "# check final data\n",
    "final_df.head(4)"
   ]
  },
  {
   "cell_type": "code",
   "execution_count": 17,
   "id": "9b53d322",
   "metadata": {},
   "outputs": [],
   "source": [
    "# save final data for making dashboard\n",
    "final_df.to_csv('final_df_dashboard.csv',index=False)"
   ]
  },
  {
   "cell_type": "code",
   "execution_count": 18,
   "id": "011c8210",
   "metadata": {},
   "outputs": [
    {
     "name": "stderr",
     "output_type": "stream",
     "text": [
      "C:\\Users\\Dell\\anaconda3\\lib\\site-packages\\sklearn\\base.py:493: UserWarning: X does not have valid feature names, but RandomForestRegressor was fitted with feature names\n",
      "  warnings.warn(\n"
     ]
    },
    {
     "name": "stdout",
     "output_type": "stream",
     "text": [
      "Predicted Sales: [5174.91889881]\n"
     ]
    }
   ],
   "source": [
    "# Make model for prdiction using Random forest \n",
    "from sklearn.ensemble import RandomForestRegressor\n",
    "import joblib\n",
    "\n",
    "dataset = pd.read_csv('final_df_dashboard.csv')\n",
    "\n",
    "# Saperate features and target\n",
    "X = dataset.drop('Sales', axis=1)\n",
    "y = dataset['Sales']\n",
    "\n",
    "# Make model and fit data\n",
    "model = RandomForestRegressor(n_estimators=50,max_depth=20)\n",
    "model.fit(X, y)\n",
    "\n",
    "# Save the model to a file\n",
    "joblib.dump(model, 'my_model.pkl',compress=3)\n",
    "\n",
    "#Load the model\n",
    "model_rfr = joblib.load('my_model.pkl')\n",
    "\n",
    "data_input = [[1,0,0,1,555,1,31,4,7,2015]]\n",
    "\n",
    "# make function to make the prediction\n",
    "def prediction(data_input):\n",
    "    prediction = model.predict(data_input)\n",
    "    return prediction\n",
    "\n",
    "prediction_data = prediction(data_input)\n",
    "print(\"Predicted Sales:\", prediction_data)"
   ]
  },
  {
   "cell_type": "code",
   "execution_count": null,
   "id": "b2a75a16",
   "metadata": {},
   "outputs": [],
   "source": []
  }
 ],
 "metadata": {
  "kernelspec": {
   "display_name": "Python 3 (ipykernel)",
   "language": "python",
   "name": "python3"
  },
  "language_info": {
   "codemirror_mode": {
    "name": "ipython",
    "version": 3
   },
   "file_extension": ".py",
   "mimetype": "text/x-python",
   "name": "python",
   "nbconvert_exporter": "python",
   "pygments_lexer": "ipython3",
   "version": "3.10.9"
  }
 },
 "nbformat": 4,
 "nbformat_minor": 5
}
